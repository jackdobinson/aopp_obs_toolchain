{
 "cells": [
  {
   "cell_type": "markdown",
   "id": "601f09e4-f15c-4faf-a575-86781fbeecc8",
   "metadata": {},
   "source": [
    "## Downloading Example Datasets ##\n",
    "Example datasets are hosted on [zenodo](https://zenodo.org) at the following URLs:\n",
    "\n",
    "Small Dataset\n",
    "    https://zenodo.org/records/13384454/files/aopp_deconv_tool_example_datasets_small.tar?download=1 \n",
    "\n",
    "Firstly we define some helper functions, download the file from the server, then extract the archive.\n",
    "\n",
    "### Define helper functions ###"
   ]
  },
  {
   "cell_type": "code",
   "execution_count": 44,
   "id": "cab75079-5ded-4057-a750-a69044a9f1e0",
   "metadata": {},
   "outputs": [],
   "source": [
    "import datetime as dt\n",
    "\n",
    "\n",
    "# Helper-function to detect if we are in a jupyter notebook\n",
    "def in_notebook():\n",
    "    try:\n",
    "        from IPython import get_ipython\n",
    "        if 'IPKernelApp' not in get_ipython().config:  # pragma: no cover\n",
    "            return False\n",
    "    except ImportError:\n",
    "        return False\n",
    "    except AttributeError:\n",
    "        return False\n",
    "    return True\n",
    "\n",
    "# If we are in a notebook, import the function to clear the output area\n",
    "if in_notebook():\n",
    "    from IPython.display import clear_output\n",
    "\n",
    "# Define a class for a progress bar\n",
    "class ProgressBar:\n",
    "    def __init__(self, max_value=None, interval=0.2, fmt=None):\n",
    "        self.format = fmt\n",
    "        self.value = 0\n",
    "        self.max_value = max_value\n",
    "        self.next_print = dt.datetime.now()\n",
    "        self.interval = dt.timedelta(seconds=interval)\n",
    "        self.is_complete = False\n",
    "        self.is_fail = False\n",
    "\n",
    "        if self.format is None:\n",
    "            if self.max_value is None:\n",
    "                self.format = 'Progress: {value}'\n",
    "            else:\n",
    "                self.format = 'Progress: {value}/{max_value} [{percentage:6.2f}%]'\n",
    "        \n",
    "        return\n",
    "        \n",
    "    def update(self, value):\n",
    "        self.value = value\n",
    "\n",
    "        now = dt.datetime.now()\n",
    "        if now > self.next_print:\n",
    "            self.next_print = now + self.interval\n",
    "            self.print()\n",
    "\n",
    "    def complete(self):\n",
    "        self.is_complete=True\n",
    "        self.print()\n",
    "        \n",
    "    def fail(self):\n",
    "        self.is_fail=True\n",
    "        self.print()\n",
    "\n",
    "    def clear_output(self):\n",
    "        if in_notebook():\n",
    "            clear_output(True)\n",
    "        else:\n",
    "            print('\\r', end=None)\n",
    "    \n",
    "    def print(self):\n",
    "        self.clear_output()\n",
    "        \n",
    "        if self.is_complete:\n",
    "            print(self.format.format(value=self.max_value, max_value=self.max_value, percentage=100*self.value/self.max_value), end=None)\n",
    "        elif self.is_fail:\n",
    "            print(self.format.format(value=self.value, max_value=self.max_value, percentage=100*self.value/self.max_value)+' FAILED', end=None)\n",
    "        else:\n",
    "            print(self.format.format(value=self.value, max_value=self.max_value, percentage=100*self.value/self.max_value), end=None)\n",
    "\n"
   ]
  },
  {
   "cell_type": "markdown",
   "id": "e557a0aa-30e3-4353-a248-462aeaf37646",
   "metadata": {},
   "source": [
    "### Download the file ###"
   ]
  },
  {
   "cell_type": "code",
   "execution_count": 45,
   "id": "859ae4a3-e89c-4b55-b6eb-9869be949dde",
   "metadata": {},
   "outputs": [
    {
     "name": "stdout",
     "output_type": "stream",
     "text": [
      "Downloaded 81121280/81121280 [100.00%] bytes of file\n"
     ]
    }
   ],
   "source": [
    "import urllib.request\n",
    "from pathlib import Path\n",
    "import io\n",
    "\n",
    "\n",
    "EXAMPLE_DATA_DIR = Path(\"../example_data\")\n",
    "URL = \"https://zenodo.org/records/13384454/files/aopp_deconv_tool_example_datasets_small.tar?download=1\"\n",
    "EXAMPLE_DATA_ARCHIVE = EXAMPLE_DATA_DIR / \"small_dataset.tar\"\n",
    "\n",
    "\n",
    "# create the directory\n",
    "EXAMPLE_DATA_DIR.mkdir(parents=True, exist_ok=True)\n",
    "\n",
    "# Download file from server\n",
    "with urllib.request.urlopen(URL) as response, EXAMPLE_DATA_ARCHIVE.open('wb') as fdest:\n",
    "    # Get the length of the file from the server\n",
    "    length = response.getheader('content-length')\n",
    "    length = int(length) if length is not None else None\n",
    "\n",
    "    # Create a progress bar so we can see what is happening\n",
    "    progress_bar = ProgressBar(length, fmt='Downloaded {value}/{max_value} [{percentage:6.2f}%] bytes of file')\n",
    "\n",
    "    # Define variables\n",
    "    n_total_read = 0 # Total bytes read from server\n",
    "    buffer = bytearray(4*2**10) # A buffer to store bytes from server in\n",
    "    n_read = -1 # Number of bytes read in one go from server\n",
    "\n",
    "    # Read the data from the server in a loop, update the progress bar\n",
    "    while n_read != 0 and response.readable():\n",
    "        n_read = response.readinto(buffer)\n",
    "        n_total_read += n_read\n",
    "        fdest.write(buffer)\n",
    "        progress_bar.update(n_total_read)\n",
    "    \n",
    "    # Complete the progress bar when file is downloaded\n",
    "    progress_bar.complete()\n"
   ]
  },
  {
   "cell_type": "markdown",
   "id": "2998dac6-f68f-476a-9380-3dd845d24f56",
   "metadata": {},
   "source": [
    "### Unpack the downloaded archive ###"
   ]
  },
  {
   "cell_type": "code",
   "execution_count": 46,
   "id": "14ca0fc9-4793-42d8-932d-44d6323f7412",
   "metadata": {},
   "outputs": [
    {
     "name": "stdout",
     "output_type": "stream",
     "text": [
      "example_data/single_wavelength_example_std.fits\n",
      "example_data/reduced_data_volume_1_sci.fits\n",
      "example_data/datasets.json\n",
      "example_data/2024-01-11-1951_9-Jupiter_890nm.tif\n",
      "example_data/SMALL_DATACUBE_0001_1_sci.fits\n",
      "example_data/reduced_data_volume_1_std.fits\n",
      "example_data/SMALL_DATACUBE_0001_1_std.fits\n",
      "example_data/single_wavelength_example_sci.fits\n",
      "example_data/2024-01-11-1932_7-Jupiter_890nm.tif\n",
      "example_data/2024-01-11-1957_2-Jupiter_750nm.tif\n",
      "example_data/2024-01-11-1917_1-Jupiter_750nm.tif\n",
      "example_data/2024-01-11-1925_9-Jupiter_727nm.tif\n"
     ]
    }
   ],
   "source": [
    "import shutil\n",
    "\n",
    "# Unpack the archive\n",
    "shutil.unpack_archive(EXAMPLE_DATA_ARCHIVE, extract_dir=EXAMPLE_DATA_DIR, format='tar')\n",
    "\n",
    "# Remove the archive now we have unpacked it\n",
    "EXAMPLE_DATA_ARCHIVE.unlink()\n",
    "\n",
    "# Print unpacked directory contents\n",
    "for item in EXAMPLE_DATA_DIR.iterdir():\n",
    "    print(f'{item}')"
   ]
  },
  {
   "cell_type": "code",
   "execution_count": null,
   "id": "baf8e391-96e6-4a9e-a179-bb75b8a6018f",
   "metadata": {},
   "outputs": [],
   "source": []
  }
 ],
 "metadata": {
  "kernelspec": {
   "display_name": "Python 3 (ipykernel)",
   "language": "python",
   "name": "python3"
  },
  "language_info": {
   "codemirror_mode": {
    "name": "ipython",
    "version": 3
   },
   "file_extension": ".py",
   "mimetype": "text/x-python",
   "name": "python",
   "nbconvert_exporter": "python",
   "pygments_lexer": "ipython3",
   "version": "3.12.2"
  }
 },
 "nbformat": 4,
 "nbformat_minor": 5
}
